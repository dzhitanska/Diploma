{
 "cells": [
  {
   "cell_type": "code",
   "execution_count": 1,
   "metadata": {},
   "outputs": [],
   "source": [
    "def open_img(): \n",
    "    # Select the Imagename  from a folder  \n",
    "    x = openfilename() \n",
    "  \n",
    "    # opens the image \n",
    "    img = Image.open(x) \n",
    "      \n",
    "    # resize the image and apply a high-quality down sampling filter \n",
    "    img = img.resize((250, 250), Image.ANTIALIAS) \n",
    "  \n",
    "    # PhotoImage class is used to add image to widgets, icons etc \n",
    "    img = ImageTk.PhotoImage(img) \n",
    "   \n",
    "    # create a label \n",
    "    panel = Label(window, image = img) \n",
    "      \n",
    "    # set the image as img  \n",
    "    panel.image = img \n",
    "    panel.place(x=165, y=80) "
   ]
  },
  {
   "cell_type": "code",
   "execution_count": 2,
   "metadata": {},
   "outputs": [],
   "source": [
    "def openfilename(): \n",
    "  \n",
    "    # open file dialog box to select image \n",
    "    # The dialogue box has a title \"Open\" \n",
    "    filename = filedialog.askopenfilename(title ='files') \n",
    "    return filename "
   ]
  },
  {
   "cell_type": "code",
   "execution_count": null,
   "metadata": {},
   "outputs": [],
   "source": [
    "from tkinter import *\n",
    "from PIL import ImageTk, Image\n",
    "from tkinter import filedialog \n",
    "\n",
    "\n",
    "window = Tk() \n",
    "window.title(\"Diploma\") \n",
    "window.geometry(\"600x500\") \n",
    "window.resizable(width = True, height = True) \n",
    "  \n",
    "# Create a button and place it into the window using grid layout \n",
    "btn = Button(window, text ='Upload my phone', command = open_img)\n",
    "btn.place(x=240, y=50)\n",
    "btn_check = Button(window, text=\"Check my photo\")\n",
    "btn_check.place(x=240, y=350)\n",
    "window.mainloop() "
   ]
  }
 ],
 "metadata": {
  "kernelspec": {
   "display_name": "Python 3",
   "language": "python",
   "name": "python3"
  },
  "language_info": {
   "codemirror_mode": {
    "name": "ipython",
    "version": 3
   },
   "file_extension": ".py",
   "mimetype": "text/x-python",
   "name": "python",
   "nbconvert_exporter": "python",
   "pygments_lexer": "ipython3",
   "version": "3.7.3"
  }
 },
 "nbformat": 4,
 "nbformat_minor": 2
}
